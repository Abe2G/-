{
  "nbformat": 4,
  "nbformat_minor": 0,
  "metadata": {
    "colab": {
      "name": "kaggle_download.ipynb",
      "version": "0.3.2",
      "provenance": [],
      "collapsed_sections": [],
      "include_colab_link": true
    },
    "kernelspec": {
      "name": "python3",
      "display_name": "Python 3"
    }
  },
  "cells": [
    {
      "cell_type": "markdown",
      "metadata": {
        "id": "view-in-github",
        "colab_type": "text"
      },
      "source": [
        "<a href=\"https://colab.research.google.com/github/Abe2G/-/blob/master/kaggle_download.ipynb\" target=\"_parent\"><img src=\"https://colab.research.google.com/assets/colab-badge.svg\" alt=\"Open In Colab\"/></a>"
      ]
    },
    {
      "cell_type": "code",
      "metadata": {
        "id": "K5-7yKxICfL3",
        "colab_type": "code",
        "colab": {
          "base_uri": "https://localhost:8080/",
          "height": 35
        },
        "outputId": "14ab5b7a-6d36-4d53-d3f7-6c737a1dd181"
      },
      "source": [
        "!mkdir .kaggle"
      ],
      "execution_count": 9,
      "outputs": [
        {
          "output_type": "stream",
          "text": [
            "mkdir: cannot create directory ‘.kaggle’: File exists\n"
          ],
          "name": "stdout"
        }
      ]
    },
    {
      "cell_type": "code",
      "metadata": {
        "id": "i7pd8yF9D9xH",
        "colab_type": "code",
        "colab": {}
      },
      "source": [
        "import json\n",
        "\n",
        "token = {\"username\":\"fafiab\",\"key\":\"f43325d9ba125af181a27e01addef8b9\"}\n",
        "\n",
        "with open('/content/.kaggle/kaggle.json', 'w') as file:\n",
        "    json.dump(token, file)"
      ],
      "execution_count": 0,
      "outputs": []
    },
    {
      "cell_type": "code",
      "metadata": {
        "id": "KJdQdTkVECGg",
        "colab_type": "code",
        "colab": {}
      },
      "source": [
        "!cp /content/.kaggle/kaggle.json ~/.kaggle/kaggle.json"
      ],
      "execution_count": 0,
      "outputs": []
    },
    {
      "cell_type": "code",
      "metadata": {
        "id": "G0Z-1dD4EHqS",
        "colab_type": "code",
        "colab": {
          "base_uri": "https://localhost:8080/",
          "height": 35
        },
        "outputId": "0d23d0b8-fe47-49aa-cfeb-2697eaf7f8d5"
      },
      "source": [
        "!kaggle config set -n path -v{/content}"
      ],
      "execution_count": 16,
      "outputs": [
        {
          "output_type": "stream",
          "text": [
            "- path is now set to: {/content}\n"
          ],
          "name": "stdout"
        }
      ]
    },
    {
      "cell_type": "code",
      "metadata": {
        "id": "EZZFGHwjEK9f",
        "colab_type": "code",
        "colab": {}
      },
      "source": [
        "!chmod 600 /root/.kaggle/kaggle.json"
      ],
      "execution_count": 0,
      "outputs": []
    },
    {
      "cell_type": "code",
      "metadata": {
        "id": "ZFags7nTBxRk",
        "colab_type": "code",
        "outputId": "8d2fd034-12d0-4fe1-8147-c6579913f258",
        "colab": {
          "base_uri": "https://localhost:8080/",
          "height": 293
        }
      },
      "source": [
        "!mkdir blindness\n",
        "!kaggle competitions download -c aptos2019-blindness-detection -p /content/blindness"
      ],
      "execution_count": 17,
      "outputs": [
        {
          "output_type": "stream",
          "text": [
            "Downloading train_images.zip to /content/blindness\n",
            "100% 8.00G/8.01G [04:05<00:00, 33.5MB/s]\n",
            "100% 8.01G/8.01G [04:05<00:00, 35.1MB/s]\n",
            "Downloading test_images.zip to /content/blindness\n",
            "100% 1.50G/1.50G [00:50<00:00, 57.2MB/s]\n",
            "100% 1.50G/1.50G [00:50<00:00, 32.1MB/s]\n",
            "Downloading train.csv to /content/blindness\n",
            "  0% 0.00/53.7k [00:00<?, ?B/s]\n",
            "100% 53.7k/53.7k [00:00<00:00, 46.6MB/s]\n",
            "Downloading test.csv to /content/blindness\n",
            "  0% 0.00/24.5k [00:00<?, ?B/s]\n",
            "100% 24.5k/24.5k [00:00<00:00, 20.8MB/s]\n",
            "Downloading sample_submission.csv to /content/blindness\n",
            "  0% 0.00/28.3k [00:00<?, ?B/s]\n",
            "100% 28.3k/28.3k [00:00<00:00, 25.1MB/s]\n"
          ],
          "name": "stdout"
        }
      ]
    },
    {
      "cell_type": "code",
      "metadata": {
        "id": "jHSTSrxPCPnX",
        "colab_type": "code",
        "colab": {}
      },
      "source": [
        "# !mkdir /content/blindness/train\n",
        "# !mkdir /content/blindness/test\n",
        "# !unzip /content/blindness/train_images.zip -d /content/blindness/train\n",
        "!unzip /content/blindness/test_images.zip -d /content/blindness/test\n",
        "import os\n",
        "# !rm /content/blindness/test/*\n",
        "print(len(os.listdir('/content/blindness/test')))"
      ],
      "execution_count": 0,
      "outputs": []
    },
    {
      "cell_type": "code",
      "metadata": {
        "id": "zsmt1sac7aoH",
        "colab_type": "code",
        "colab": {}
      },
      "source": [
        "# Run this cell to mount your Google Drive.\n",
        "from google.colab import drive\n",
        "drive.mount('/content/drive')"
      ],
      "execution_count": 0,
      "outputs": []
    },
    {
      "cell_type": "code",
      "metadata": {
        "id": "LFNezIsTyGEX",
        "colab_type": "code",
        "colab": {
          "base_uri": "https://localhost:8080/",
          "height": 35
        },
        "outputId": "b3326703-8a12-480a-c8c9-f0cf55d02166"
      },
      "source": [
        "!ls /content/blindness"
      ],
      "execution_count": 1,
      "outputs": [
        {
          "output_type": "stream",
          "text": [
            "ls: cannot access '/content/blindness': No such file or directory\n"
          ],
          "name": "stdout"
        }
      ]
    }
  ]
}